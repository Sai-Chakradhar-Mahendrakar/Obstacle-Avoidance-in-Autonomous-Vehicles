{
  "cells": [
    {
      "cell_type": "code",
      "execution_count": 1,
      "metadata": {
        "id": "ExgHv3nYFB6x"
      },
      "outputs": [
        {
          "name": "stderr",
          "output_type": "stream",
          "text": [
            "Using TensorFlow backend.\n"
          ]
        }
      ],
      "source": [
        "import tensorflow as tf\n",
        "import numpy as np\n",
        "import pandas as pd\n",
        "import matplotlib.pyplot as plt"
      ]
    },
    {
      "cell_type": "code",
      "execution_count": null,
      "metadata": {
        "id": "fbaGnuIuGAe4"
      },
      "outputs": [],
      "source": [
        "columns = []\n",
        "for i in range(120):\n",
        "    columns.append(f'x_{i}')"
      ]
    },
    {
      "cell_type": "code",
      "execution_count": null,
      "metadata": {
        "id": "TnVaZ3-tGCtm"
      },
      "outputs": [],
      "source": [
        "columns = columns + ['v', 'w']"
      ]
    },
    {
      "cell_type": "code",
      "execution_count": null,
      "metadata": {
        "id": "lvEiyRg-GEsd"
      },
      "outputs": [],
      "source": [
        "df = pd.read_csv('data.csv')\n",
        "df.replace([np.inf], 3.5, inplace = True)"
      ]
    },
    {
      "cell_type": "code",
      "execution_count": null,
      "metadata": {
        "id": "yKMP7GCNGGZL"
      },
      "outputs": [],
      "source": [
        "df.columns = columns\n",
        "df.loc[df['v'] == 0.3, \"v\"] = 1\n",
        "df.loc[df['v'] == 0.3, \"w\"] = 0\n",
        "df.loc[df['w'] == 0.3, \"v\"] = 0\n",
        "df.loc[df['w'] == 0.3, \"w\"] = 1\n"
      ]
    },
    {
      "cell_type": "code",
      "execution_count": null,
      "metadata": {
        "colab": {
          "base_uri": "https://localhost:8080/"
        },
        "id": "LvNSPwPyGIKR",
        "outputId": "f1200869-4cde-4365-fb56-748ec619db9e"
      },
      "outputs": [
        {
          "name": "stdout",
          "output_type": "stream",
          "text": [
            "Raw Data\n",
            "        x_0       x_1       x_2       x_3       x_4       x_5       x_6  \\\n",
            "0  1.346923  1.360638  1.365231  1.350041  1.358604  1.370188  1.344512   \n",
            "1  1.277851  1.315328  1.293707  1.275666  1.320529  1.300516  1.307104   \n",
            "2  1.230630  1.233934  1.229449  1.231028  1.243856  1.249699  1.242816   \n",
            "3  1.185838  1.169351  1.188329  1.168267  1.190290  1.175661  1.181056   \n",
            "4  1.109929  1.125409  1.098812  1.123011  1.117334  1.103570  1.116875   \n",
            "\n",
            "        x_7       x_8       x_9  ...     x_112     x_113     x_114     x_115  \\\n",
            "0  1.372208  1.372444  1.382360  ...  1.377696  1.378893  1.365041  1.365408   \n",
            "1  1.313694  1.311604  1.312957  ...  1.309475  1.304706  1.318904  1.303117   \n",
            "2  1.259659  1.245851  1.259329  ...  1.242957  1.243151  1.237073  1.255734   \n",
            "3  1.183862  1.178392  1.185332  ...  1.191622  1.185819  1.178649  1.175162   \n",
            "4  1.119887  1.128481  1.142988  ...  1.136875  1.128828  1.109382  1.118668   \n",
            "\n",
            "      x_116     x_117     x_118     x_119    v    w  \n",
            "0  1.377812  1.363300  1.357556  1.354828  1.0  0.0  \n",
            "1  1.296383  1.306691  1.290709  1.273845  1.0  0.0  \n",
            "2  1.240644  1.226365  1.244906  1.242878  1.0  0.0  \n",
            "3  1.171826  1.177648  1.179101  1.175373  1.0  0.0  \n",
            "4  1.115168  1.112512  1.126526  1.119518  1.0  0.0  \n",
            "\n",
            "[5 rows x 122 columns]\n",
            "Number of Data Entries: 1051\n",
            "Number of v Entries: 510\n",
            "Number of v Entries: 541\n"
          ]
        }
      ],
      "source": [
        "print(\"Raw Data\")\n",
        "print(df.head(5))\n",
        "print(f\"Number of Data Entries: {len(df)}\")\n",
        "print(f\"Number of v Entries: {len(df[df['v'] == 1])}\")\n",
        "print(f\"Number of v Entries: {len(df[df['w'] == 1])}\")"
      ]
    },
    {
      "cell_type": "code",
      "execution_count": null,
      "metadata": {
        "id": "XotKd0_yGJ0x"
      },
      "outputs": [],
      "source": [
        "y = pd.concat([df.pop(x) for x in ['v', 'w']], axis = 1)\n",
        "X = df"
      ]
    },
    {
      "cell_type": "code",
      "execution_count": null,
      "metadata": {
        "colab": {
          "base_uri": "https://localhost:8080/"
        },
        "id": "pDiQd_xuGMaJ",
        "outputId": "dcf99da5-0704-47f1-eb71-2952eb4fdcad"
      },
      "outputs": [
        {
          "name": "stdout",
          "output_type": "stream",
          "text": [
            "Prepared Data\n",
            "y Dataframe\n",
            "\n",
            "     v    w\n",
            "0  1.0  0.0\n",
            "1  1.0  0.0\n",
            "2  1.0  0.0\n",
            "3  1.0  0.0\n",
            "4  1.0  0.0\n"
          ]
        }
      ],
      "source": [
        "print(\"Prepared Data\")\n",
        "print(\"y Dataframe\\n\")\n",
        "print(y.head(5))"
      ]
    },
    {
      "cell_type": "code",
      "execution_count": null,
      "metadata": {
        "colab": {
          "base_uri": "https://localhost:8080/"
        },
        "id": "IXDQAbD8GOfl",
        "outputId": "3a62cd37-a80a-4808-b65f-31b39145ea52"
      },
      "outputs": [
        {
          "name": "stdout",
          "output_type": "stream",
          "text": [
            "X Dataframe\n",
            "\n",
            "        x_0       x_1       x_2       x_3       x_4       x_5       x_6  \\\n",
            "0  1.346923  1.360638  1.365231  1.350041  1.358604  1.370188  1.344512   \n",
            "1  1.277851  1.315328  1.293707  1.275666  1.320529  1.300516  1.307104   \n",
            "2  1.230630  1.233934  1.229449  1.231028  1.243856  1.249699  1.242816   \n",
            "3  1.185838  1.169351  1.188329  1.168267  1.190290  1.175661  1.181056   \n",
            "4  1.109929  1.125409  1.098812  1.123011  1.117334  1.103570  1.116875   \n",
            "\n",
            "        x_7       x_8       x_9  ...     x_110     x_111     x_112     x_113  \\\n",
            "0  1.372208  1.372444  1.382360  ...  1.372158  1.376544  1.377696  1.378893   \n",
            "1  1.313694  1.311604  1.312957  ...  1.316688  1.302228  1.309475  1.304706   \n",
            "2  1.259659  1.245851  1.259329  ...  1.246563  1.243940  1.242957  1.243151   \n",
            "3  1.183862  1.178392  1.185332  ...  1.201963  1.208165  1.191622  1.185819   \n",
            "4  1.119887  1.128481  1.142988  ...  1.170971  1.130407  1.136875  1.128828   \n",
            "\n",
            "      x_114     x_115     x_116     x_117     x_118     x_119  \n",
            "0  1.365041  1.365408  1.377812  1.363300  1.357556  1.354828  \n",
            "1  1.318904  1.303117  1.296383  1.306691  1.290709  1.273845  \n",
            "2  1.237073  1.255734  1.240644  1.226365  1.244906  1.242878  \n",
            "3  1.178649  1.175162  1.171826  1.177648  1.179101  1.175373  \n",
            "4  1.109382  1.118668  1.115168  1.112512  1.126526  1.119518  \n",
            "\n",
            "[5 rows x 120 columns]\n"
          ]
        }
      ],
      "source": [
        "print(\"X Dataframe\\n\")\n",
        "print(X.head(5))"
      ]
    },
    {
      "cell_type": "code",
      "execution_count": null,
      "metadata": {
        "id": "O32i1Xu1GP9j"
      },
      "outputs": [],
      "source": [
        "X_tensor = tf.convert_to_tensor(X)"
      ]
    },
    {
      "cell_type": "code",
      "execution_count": null,
      "metadata": {
        "id": "HfnbKkRmGSMi"
      },
      "outputs": [],
      "source": [
        "model = tf.keras.models.Sequential()"
      ]
    },
    {
      "cell_type": "code",
      "execution_count": null,
      "metadata": {
        "id": "so8XhBo8Go_V"
      },
      "outputs": [],
      "source": [
        "model.add(tf.keras.layers.Dense(units=100,activation='relu'))"
      ]
    },
    {
      "cell_type": "code",
      "execution_count": null,
      "metadata": {
        "id": "tFaHOSLFG9Pr"
      },
      "outputs": [],
      "source": [
        "model.add(tf.keras.layers.Dense(units=100,activation='relu'))"
      ]
    },
    {
      "cell_type": "code",
      "execution_count": null,
      "metadata": {
        "id": "apgTgMBzHBFc"
      },
      "outputs": [],
      "source": [
        "model.add(tf.keras.layers.Dense(units=100,activation='relu'))"
      ]
    },
    {
      "cell_type": "code",
      "execution_count": null,
      "metadata": {
        "id": "Q1YnOM71HBe-"
      },
      "outputs": [],
      "source": [
        "model.add(tf.keras.layers.Dense(units=2,activation='sigmoid'))"
      ]
    },
    {
      "cell_type": "code",
      "execution_count": null,
      "metadata": {
        "id": "vV7J-F2eHLC7"
      },
      "outputs": [],
      "source": [
        "model.compile(loss = 'categorical_crossentropy',\n",
        "              optimizer = 'adam',\n",
        "              metrics=['accuracy'])"
      ]
    },
    {
      "cell_type": "code",
      "execution_count": null,
      "metadata": {
        "colab": {
          "base_uri": "https://localhost:8080/"
        },
        "id": "H8xutbBkHOK2",
        "outputId": "cf38e233-244a-4643-f898-9adf6385be32"
      },
      "outputs": [
        {
          "name": "stdout",
          "output_type": "stream",
          "text": [
            "Epoch 1/50\n",
            "105/105 [==============================] - 0s 4ms/step - loss: 0.4518 - accuracy: 0.8060 - val_loss: 0.4688 - val_accuracy: 0.7630\n",
            "Epoch 2/50\n",
            "105/105 [==============================] - 0s 4ms/step - loss: 0.4630 - accuracy: 0.8036 - val_loss: 0.5399 - val_accuracy: 0.7251\n",
            "Epoch 3/50\n",
            "105/105 [==============================] - 1s 5ms/step - loss: 0.4032 - accuracy: 0.8333 - val_loss: 0.6149 - val_accuracy: 0.8246\n",
            "Epoch 4/50\n",
            "105/105 [==============================] - 0s 4ms/step - loss: 0.3981 - accuracy: 0.8226 - val_loss: 0.8085 - val_accuracy: 0.6398\n",
            "Epoch 5/50\n",
            "105/105 [==============================] - 1s 5ms/step - loss: 0.3771 - accuracy: 0.8440 - val_loss: 0.5442 - val_accuracy: 0.8152\n",
            "Epoch 6/50\n",
            "105/105 [==============================] - 0s 4ms/step - loss: 0.4025 - accuracy: 0.8369 - val_loss: 0.4106 - val_accuracy: 0.8673\n",
            "Epoch 7/50\n",
            "105/105 [==============================] - 0s 4ms/step - loss: 0.3802 - accuracy: 0.8286 - val_loss: 0.4056 - val_accuracy: 0.7820\n",
            "Epoch 8/50\n",
            "105/105 [==============================] - 0s 4ms/step - loss: 0.3980 - accuracy: 0.8298 - val_loss: 0.4169 - val_accuracy: 0.8483\n",
            "Epoch 9/50\n",
            "105/105 [==============================] - 0s 4ms/step - loss: 0.3450 - accuracy: 0.8595 - val_loss: 0.4194 - val_accuracy: 0.8009\n",
            "Epoch 10/50\n",
            "105/105 [==============================] - 0s 4ms/step - loss: 0.3317 - accuracy: 0.8690 - val_loss: 0.6078 - val_accuracy: 0.7488\n",
            "Epoch 11/50\n",
            "105/105 [==============================] - 0s 4ms/step - loss: 0.3541 - accuracy: 0.8500 - val_loss: 0.4871 - val_accuracy: 0.8626\n",
            "Epoch 12/50\n",
            "105/105 [==============================] - 0s 4ms/step - loss: 0.3561 - accuracy: 0.8440 - val_loss: 0.4581 - val_accuracy: 0.7630\n",
            "Epoch 13/50\n",
            "105/105 [==============================] - 0s 4ms/step - loss: 0.3462 - accuracy: 0.8369 - val_loss: 0.6222 - val_accuracy: 0.7251\n",
            "Epoch 14/50\n",
            "105/105 [==============================] - 1s 5ms/step - loss: 0.3473 - accuracy: 0.8357 - val_loss: 0.5541 - val_accuracy: 0.7346\n",
            "Epoch 15/50\n",
            "105/105 [==============================] - 1s 6ms/step - loss: 0.3441 - accuracy: 0.8583 - val_loss: 0.6289 - val_accuracy: 0.7583\n",
            "Epoch 16/50\n",
            "105/105 [==============================] - 1s 7ms/step - loss: 0.3252 - accuracy: 0.8571 - val_loss: 0.4808 - val_accuracy: 0.7393\n",
            "Epoch 17/50\n",
            "105/105 [==============================] - 1s 6ms/step - loss: 0.3462 - accuracy: 0.8560 - val_loss: 0.4344 - val_accuracy: 0.7773\n",
            "Epoch 18/50\n",
            "105/105 [==============================] - 1s 5ms/step - loss: 0.3254 - accuracy: 0.8548 - val_loss: 0.6444 - val_accuracy: 0.7583\n",
            "Epoch 19/50\n",
            "105/105 [==============================] - 0s 4ms/step - loss: 0.3298 - accuracy: 0.8571 - val_loss: 0.4869 - val_accuracy: 0.7678\n",
            "Epoch 20/50\n",
            "105/105 [==============================] - 0s 4ms/step - loss: 0.3074 - accuracy: 0.8631 - val_loss: 0.6549 - val_accuracy: 0.6872\n",
            "Epoch 21/50\n",
            "105/105 [==============================] - 0s 4ms/step - loss: 0.3122 - accuracy: 0.8607 - val_loss: 0.4260 - val_accuracy: 0.7773\n",
            "Epoch 22/50\n",
            "105/105 [==============================] - 0s 4ms/step - loss: 0.3040 - accuracy: 0.8619 - val_loss: 0.6045 - val_accuracy: 0.7441\n",
            "Epoch 23/50\n",
            "105/105 [==============================] - 0s 4ms/step - loss: 0.2996 - accuracy: 0.8524 - val_loss: 0.7746 - val_accuracy: 0.7393\n",
            "Epoch 24/50\n",
            "105/105 [==============================] - 0s 4ms/step - loss: 0.2986 - accuracy: 0.8560 - val_loss: 0.5213 - val_accuracy: 0.7583\n",
            "Epoch 25/50\n",
            "105/105 [==============================] - 0s 4ms/step - loss: 0.3002 - accuracy: 0.8655 - val_loss: 0.5636 - val_accuracy: 0.7062\n",
            "Epoch 26/50\n",
            "105/105 [==============================] - 1s 5ms/step - loss: 0.3279 - accuracy: 0.8524 - val_loss: 0.5703 - val_accuracy: 0.7204\n",
            "Epoch 27/50\n",
            "105/105 [==============================] - 0s 4ms/step - loss: 0.2989 - accuracy: 0.8679 - val_loss: 0.4023 - val_accuracy: 0.7962\n",
            "Epoch 28/50\n",
            "105/105 [==============================] - 0s 4ms/step - loss: 0.3109 - accuracy: 0.8548 - val_loss: 0.5432 - val_accuracy: 0.7488\n",
            "Epoch 29/50\n",
            "105/105 [==============================] - 0s 4ms/step - loss: 0.2663 - accuracy: 0.8750 - val_loss: 0.5184 - val_accuracy: 0.7583\n",
            "Epoch 30/50\n",
            "105/105 [==============================] - 0s 4ms/step - loss: 0.3101 - accuracy: 0.8536 - val_loss: 0.5081 - val_accuracy: 0.8009\n",
            "Epoch 31/50\n",
            "105/105 [==============================] - 0s 4ms/step - loss: 0.2842 - accuracy: 0.8631 - val_loss: 0.3959 - val_accuracy: 0.8246\n",
            "Epoch 32/50\n",
            "105/105 [==============================] - 0s 4ms/step - loss: 0.3003 - accuracy: 0.8690 - val_loss: 0.7588 - val_accuracy: 0.7536\n",
            "Epoch 33/50\n",
            "105/105 [==============================] - 0s 4ms/step - loss: 0.2842 - accuracy: 0.8667 - val_loss: 0.6284 - val_accuracy: 0.7299\n",
            "Epoch 34/50\n",
            "105/105 [==============================] - 0s 4ms/step - loss: 0.2864 - accuracy: 0.8702 - val_loss: 0.5304 - val_accuracy: 0.7725\n",
            "Epoch 35/50\n",
            "105/105 [==============================] - 0s 4ms/step - loss: 0.3077 - accuracy: 0.8631 - val_loss: 0.3812 - val_accuracy: 0.8436\n",
            "Epoch 36/50\n",
            "105/105 [==============================] - 0s 4ms/step - loss: 0.2696 - accuracy: 0.8738 - val_loss: 0.4982 - val_accuracy: 0.7583\n",
            "Epoch 37/50\n",
            "105/105 [==============================] - 0s 4ms/step - loss: 0.2749 - accuracy: 0.8798 - val_loss: 0.8933 - val_accuracy: 0.7062\n",
            "Epoch 38/50\n",
            "105/105 [==============================] - 0s 4ms/step - loss: 0.2835 - accuracy: 0.8810 - val_loss: 0.9073 - val_accuracy: 0.6919\n",
            "Epoch 39/50\n",
            "105/105 [==============================] - 0s 4ms/step - loss: 0.2921 - accuracy: 0.8690 - val_loss: 0.8713 - val_accuracy: 0.7109\n",
            "Epoch 40/50\n",
            "105/105 [==============================] - 0s 4ms/step - loss: 0.2935 - accuracy: 0.8750 - val_loss: 0.6695 - val_accuracy: 0.7536\n",
            "Epoch 41/50\n",
            "105/105 [==============================] - 1s 5ms/step - loss: 0.2694 - accuracy: 0.8917 - val_loss: 0.7645 - val_accuracy: 0.7441\n",
            "Epoch 42/50\n",
            "105/105 [==============================] - 1s 6ms/step - loss: 0.2892 - accuracy: 0.8750 - val_loss: 0.4159 - val_accuracy: 0.7583\n",
            "Epoch 43/50\n",
            "105/105 [==============================] - 1s 6ms/step - loss: 0.2649 - accuracy: 0.8821 - val_loss: 0.5659 - val_accuracy: 0.7915\n",
            "Epoch 44/50\n",
            "105/105 [==============================] - 1s 6ms/step - loss: 0.2908 - accuracy: 0.8631 - val_loss: 0.6082 - val_accuracy: 0.7393\n",
            "Epoch 45/50\n",
            "105/105 [==============================] - 1s 5ms/step - loss: 0.2636 - accuracy: 0.8821 - val_loss: 0.5002 - val_accuracy: 0.7773\n",
            "Epoch 46/50\n",
            "105/105 [==============================] - 0s 4ms/step - loss: 0.2547 - accuracy: 0.8845 - val_loss: 0.4706 - val_accuracy: 0.8294\n",
            "Epoch 47/50\n",
            "105/105 [==============================] - 0s 4ms/step - loss: 0.2732 - accuracy: 0.8750 - val_loss: 0.4673 - val_accuracy: 0.7678\n",
            "Epoch 48/50\n",
            "105/105 [==============================] - 0s 4ms/step - loss: 0.2487 - accuracy: 0.8810 - val_loss: 0.6246 - val_accuracy: 0.7299\n",
            "Epoch 49/50\n",
            "105/105 [==============================] - 0s 4ms/step - loss: 0.2606 - accuracy: 0.8833 - val_loss: 0.7043 - val_accuracy: 0.7251\n",
            "Epoch 50/50\n",
            "105/105 [==============================] - 0s 4ms/step - loss: 0.2413 - accuracy: 0.8964 - val_loss: 0.8605 - val_accuracy: 0.6967\n"
          ]
        },
        {
          "data": {
            "text/plain": [
              "<keras.src.callbacks.History at 0x7a3796c776a0>"
            ]
          },
          "execution_count": 21,
          "metadata": {},
          "output_type": "execute_result"
        }
      ],
      "source": [
        "model.fit(X_tensor, y, epochs = 50, batch_size = 8, validation_split = 0.2, shuffle = True)"
      ]
    },
    {
      "cell_type": "code",
      "execution_count": null,
      "metadata": {
        "colab": {
          "base_uri": "https://localhost:8080/"
        },
        "id": "K6-zDb2BHVgL",
        "outputId": "ea544be0-a6f5-4523-acd9-34dec8c4c54b"
      },
      "outputs": [
        {
          "name": "stderr",
          "output_type": "stream",
          "text": [
            "/usr/local/lib/python3.10/dist-packages/keras/src/engine/training.py:3079: UserWarning: You are saving your model as an HDF5 file via `model.save()`. This file format is considered legacy. We recommend using instead the native Keras format, e.g. `model.save('my_model.keras')`.\n",
            "  saving_api.save_model(\n"
          ]
        }
      ],
      "source": [
        "model.save('model.hdf5')"
      ]
    },
    {
      "cell_type": "code",
      "execution_count": null,
      "metadata": {
        "id": "a-j-nTeJHjTo"
      },
      "outputs": [],
      "source": []
    }
  ],
  "metadata": {
    "accelerator": "GPU",
    "colab": {
      "gpuType": "T4",
      "provenance": []
    },
    "kernelspec": {
      "display_name": "Python 3",
      "name": "python3"
    },
    "language_info": {
      "codemirror_mode": {
        "name": "ipython",
        "version": 3
      },
      "file_extension": ".py",
      "mimetype": "text/x-python",
      "name": "python",
      "nbconvert_exporter": "python",
      "pygments_lexer": "ipython3",
      "version": "3.9.13"
    }
  },
  "nbformat": 4,
  "nbformat_minor": 0
}
